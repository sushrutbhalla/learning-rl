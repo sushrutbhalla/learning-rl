{
 "cells": [
  {
   "cell_type": "code",
   "execution_count": 1,
   "metadata": {},
   "outputs": [],
   "source": [
    "from MDP import *\n",
    "\n",
    "''' Construct simple MDP as described in Lecture 2a Slides 13-14'''\n",
    "# Transition function: |A| x |S| x |S'| array\n",
    "T = np.array([[[0.5,0.5,0,0],[0,1,0,0],[0.5,0.5,0,0],[0,1,0,0]],[[1,0,0,0],[0.5,0,0,0.5],[0.5,0,0.5,0],[0,0,0.5,0.5]]])\n",
    "# Reward function: |A| x |S| array\n",
    "R = np.array([[0,0,10,10],[0,0,10,10]])\n",
    "# Discount factor: scalar in [0,1)\n",
    "discount = 0.9\n",
    "# MDP object\n",
    "mdp = MDP(T,R,discount)"
   ]
  },
  {
   "cell_type": "markdown",
   "metadata": {},
   "source": [
    "### Question 0: TestMDP Results (Company Environment)"
   ]
  },
  {
   "cell_type": "code",
   "execution_count": 2,
   "metadata": {},
   "outputs": [
    {
     "name": "stdout",
     "output_type": "stream",
     "text": [
      "[DEBUG] valueIteration: [array([ 31.49636306,  38.51527513,  43.935435  ,  54.1128575 ]), 58, 0.0098601388198389373]\n",
      "[DEBUG] extractPolicy: [0 1 1 1]\n",
      "[DEBUG] evaluatePolicy: [  0.           0.          18.18181818  10.        ]\n",
      "[DEBUG] policyIteration: [array([0, 1, 1, 1], dtype=int64), array([ 31.58510431,  38.60401638,  44.02417625,  54.20159875]), 2]\n",
      "[DEBUG] evaluatePolicyPartially: [array([  0.        ,   0.08727964,  18.18181818,  10.08727964]), 45, 0.0096977372978752641]\n",
      "[DEBUG] modifiedPolicyIteration: [array([0, 1, 1, 1], dtype=int64), array([ 31.49727025,  38.51618232,  43.9363422 ,  54.1137647 ]), 11, 0.0087834054981215104]\n"
     ]
    }
   ],
   "source": [
    "'''Test each procedure'''\n",
    "[V,nIterations,epsilon] = mdp.valueIteration(initialV=np.zeros(mdp.nStates))\n",
    "#TODO do code check with different values of tolerance and nIteration for valueIteration and policyIteration\n",
    "print (\"[DEBUG] valueIteration: {}\".format([V,nIterations,epsilon]))\n",
    "policy = mdp.extractPolicy(V)\n",
    "print (\"[DEBUG] extractPolicy: {}\".format(policy))\n",
    "V = mdp.evaluatePolicy(np.array([1,0,1,0]))\n",
    "print (\"[DEBUG] evaluatePolicy: {}\".format(V))\n",
    "[policy,V,iterId] = mdp.policyIteration(np.array([0,0,0,0]))\n",
    "print (\"[DEBUG] policyIteration: {}\".format([policy,V,iterId]))\n",
    "[V,iterId,epsilon] = mdp.evaluatePolicyPartially(np.array([1,0,1,0]),np.array([0,10,0,13]))\n",
    "#TODO try different inputs\n",
    "print (\"[DEBUG] evaluatePolicyPartially: {}\".format([V,iterId,epsilon]))\n",
    "[policy,V,iterId,tolerance] = mdp.modifiedPolicyIteration(np.array([1,0,1,0]),np.array([0,10,0,13]))\n",
    "#TODO check modified policy iteration with k=0 and k=inf if we get value iteration and policy iteration results\n",
    "print (\"[DEBUG] modifiedPolicyIteration: {}\".format([policy,V,iterId,tolerance]))"
   ]
  },
  {
   "cell_type": "code",
   "execution_count": null,
   "metadata": {},
   "outputs": [],
   "source": []
  }
 ],
 "metadata": {
  "kernelspec": {
   "display_name": "Python 3",
   "language": "python",
   "name": "python3"
  },
  "language_info": {
   "codemirror_mode": {
    "name": "ipython",
    "version": 3
   },
   "file_extension": ".py",
   "mimetype": "text/x-python",
   "name": "python",
   "nbconvert_exporter": "python",
   "pygments_lexer": "ipython3",
   "version": "3.5.2"
  }
 },
 "nbformat": 4,
 "nbformat_minor": 2
}
