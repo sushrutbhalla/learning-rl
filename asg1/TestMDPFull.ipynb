{
 "cells": [
  {
   "cell_type": "markdown",
   "metadata": {},
   "source": [
    "## Part 1"
   ]
  },
  {
   "cell_type": "code",
   "execution_count": 5,
   "metadata": {},
   "outputs": [],
   "source": [
    "from MDP import *\n",
    "\n",
    "''' Construct simple MDP as described in Lecture 2a Slides 13-14'''\n",
    "# Transition function: |A| x |S| x |S'| array\n",
    "T = np.array([[[0.5,0.5,0,0],[0,1,0,0],[0.5,0.5,0,0],[0,1,0,0]],[[1,0,0,0],[0.5,0,0,0.5],[0.5,0,0.5,0],[0,0,0.5,0.5]]])\n",
    "# Reward function: |A| x |S| array\n",
    "R = np.array([[0,0,10,10],[0,0,10,10]])\n",
    "# Discount factor: scalar in [0,1)\n",
    "discount = 0.9\n",
    "# MDP object\n",
    "mdp = MDP(T,R,discount)"
   ]
  },
  {
   "cell_type": "markdown",
   "metadata": {},
   "source": [
    "### Question 0: TestMDP Results"
   ]
  },
  {
   "cell_type": "code",
   "execution_count": 6,
   "metadata": {},
   "outputs": [
    {
     "name": "stdout",
     "output_type": "stream",
     "text": [
      "[DEBUG] valueIteration: [array([ 31.58510431,  38.60401638,  44.02417625,  54.20159875]), 336, 0.0]\n",
      "[DEBUG] extractPolicy: [0 1 1 1]\n",
      "[DEBUG] evaluatePolicy: [  0.           0.          18.18181818  10.        ]\n",
      "[DEBUG] policyIteration: [array([0, 1, 1, 1]), array([ 31.58510431,  38.60401638,  44.02417625,  54.20159875]), 2]\n",
      "[DEBUG] evaluatePolicyPartially: [array([  0.00000000e+000,   2.47032823e-323,   1.81818182e+001,\n",
      "         1.00000000e+001]), 7073, 0.0]\n",
      "[DEBUG] modifiedPolicyIteration: [array([0, 1, 1, 1]), array([ 14.59257577,  21.61306839,  26.8768648 ,  37.11159936]), 2, 1.7843834592557251]\n"
     ]
    }
   ],
   "source": [
    "'''Test each procedure'''\n",
    "[V,nIterations,epsilon] = mdp.valueIteration(initialV=np.zeros(mdp.nStates))\n",
    "#TODO do code check with different values of tolerance and nIteration for valueIteration and policyIteration\n",
    "print (\"[DEBUG] valueIteration: {}\".format([V,nIterations,epsilon]))\n",
    "policy = mdp.extractPolicy(V)\n",
    "print (\"[DEBUG] extractPolicy: {}\".format(policy))\n",
    "V = mdp.evaluatePolicy(np.array([1,0,1,0]))\n",
    "print (\"[DEBUG] evaluatePolicy: {}\".format(V))\n",
    "[policy,V,iterId] = mdp.policyIteration(np.array([0,0,0,0]))\n",
    "print (\"[DEBUG] policyIteration: {}\".format([policy,V,iterId]))\n",
    "[V,iterId,epsilon] = mdp.evaluatePolicyPartially(np.array([1,0,1,0]),np.array([0,10,0,13]))\n",
    "#TODO try different inputs\n",
    "print (\"[DEBUG] evaluatePolicyPartially: {}\".format([V,iterId,epsilon]))\n",
    "[policy,V,iterId,tolerance] = mdp.modifiedPolicyIteration(np.array([1,0,1,0]),np.array([0,10,0,13]))\n",
    "#TODO check modified policy iteration with k=0 and k=inf if we get value iteration and policy iteration results\n",
    "print (\"[DEBUG] modifiedPolicyIteration: {}\".format([policy,V,iterId,tolerance]))"
   ]
  },
  {
   "cell_type": "markdown",
   "metadata": {},
   "source": [
    "### Question 1 (maze):"
   ]
  },
  {
   "cell_type": "code",
   "execution_count": 9,
   "metadata": {},
   "outputs": [
    {
     "name": "stdout",
     "output_type": "stream",
     "text": [
      "----------------------------------------------------------------\n",
      "[DEBUG] valueIteration nIterations: 336, epsilon: 0.0\n",
      "policy:\n",
      "[0 1 1 1]\n",
      "V:\n",
      "[ 31.58510431  38.60401638  44.02417625  54.20159875]\n"
     ]
    }
   ],
   "source": [
    "'''Test each procedure'''\n",
    "[V,nIterations,epsilon] = mdp.valueIteration(initialV=np.zeros(mdp.nStates),tolerance=0.01)\n",
    "policy = mdp.extractPolicy(V)\n",
    "print (\"----------------------------------------------------------------\")\n",
    "print (\"[DEBUG] valueIteration nIterations: {}, epsilon: {}\".format(nIterations,epsilon))\n",
    "print (\"policy:\")\n",
    "print (policy)\n",
    "print (\"V:\")\n",
    "print (V)"
   ]
  },
  {
   "cell_type": "code",
   "execution_count": null,
   "metadata": {},
   "outputs": [],
   "source": []
  }
 ],
 "metadata": {
  "kernelspec": {
   "display_name": "Python 2",
   "language": "python",
   "name": "python2"
  },
  "language_info": {
   "codemirror_mode": {
    "name": "ipython",
    "version": 2
   },
   "file_extension": ".py",
   "mimetype": "text/x-python",
   "name": "python",
   "nbconvert_exporter": "python",
   "pygments_lexer": "ipython2",
   "version": "2.7.12"
  }
 },
 "nbformat": 4,
 "nbformat_minor": 2
}
