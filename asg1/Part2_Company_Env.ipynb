{
 "cells": [
  {
   "cell_type": "code",
   "execution_count": 1,
   "metadata": {},
   "outputs": [],
   "source": [
    "import numpy as np\n",
    "import MDP\n",
    "import RL\n",
    "\n",
    "\n",
    "''' Construct simple MDP as described in Lecture 2a Slides 13-14'''\n",
    "T = np.array([[[0.5,0.5,0,0],[0,1,0,0],[0.5,0.5,0,0],[0,1,0,0]],[[1,0,0,0],[0.5,0,0,0.5],[0.5,0,0.5,0],[0,0,0.5,0.5]]])\n",
    "R = np.array([[0,0,10,10],[0,0,10,10]])\n",
    "discount = 0.9\n",
    "mdp = MDP.MDP(T,R,discount)\n",
    "rlProblem = RL.RL(mdp,np.random.normal)"
   ]
  },
  {
   "cell_type": "markdown",
   "metadata": {},
   "source": [
    "### Question 0\n",
    "The following cell shows the results of running tabular Q-learning for $1000$ episodes with $100$ steps in each episode with $\\epsilon=0.3$ greedy exploration. The results for $\\epsilon=0.0$ and variable temperature are also shown for the simple company enrivonment. The Q-learning algorithm converges to the same policy as developed in Part 1 of this assignment."
   ]
  },
  {
   "cell_type": "code",
   "execution_count": 2,
   "metadata": {},
   "outputs": [
    {
     "name": "stdout",
     "output_type": "stream",
     "text": [
      "\n",
      "Q-learning results: epsilon=0.3\n",
      "[[ 18.04773954  21.32905322  28.07905934  31.25061862]\n",
      " [ 14.82172089  25.14879854  30.71489705  40.98828559]]\n",
      "[0 1 1 1]\n",
      "\n",
      "Q-learning results: temperature=100\n",
      "[[ 17.49778119  20.55329723  27.49805104  30.57447614]\n",
      " [ 14.41344503  24.48264398  29.94082703  40.05845558]]\n",
      "[0 1 1 1]\n",
      "\n",
      "Q-learning results: temperature=1000\n",
      "[[ 17.56467717  20.84770078  27.70804399  30.86013875]\n",
      " [ 14.33652338  24.81332176  30.20010912  40.47566243]]\n",
      "[0 1 1 1]\n"
     ]
    }
   ],
   "source": [
    "# Test Q-learning\n",
    "[Q,policy] = rlProblem.qLearning(s0=0,initialQ=np.zeros([mdp.nActions,mdp.nStates]),nEpisodes=1000,nSteps=100,epsilon=0.3)\n",
    "print (\"\\nQ-learning results: epsilon=0.3\")\n",
    "print (Q)\n",
    "print (policy)\n",
    "[Q,policy] = rlProblem.qLearning(s0=0,initialQ=np.zeros([mdp.nActions,mdp.nStates]),nEpisodes=1000,nSteps=100,epsilon=0., temperature=100)\n",
    "print (\"\\nQ-learning results: temperature=100\")\n",
    "print (Q)\n",
    "print (policy)\n",
    "[Q,policy] = rlProblem.qLearning(s0=0,initialQ=np.zeros([mdp.nActions,mdp.nStates]),nEpisodes=1000,nSteps=100,epsilon=0., temperature=1000)\n",
    "print (\"\\nQ-learning results: temperature=1000\")\n",
    "print (Q)\n",
    "print (policy)"
   ]
  },
  {
   "cell_type": "code",
   "execution_count": null,
   "metadata": {},
   "outputs": [],
   "source": []
  }
 ],
 "metadata": {
  "kernelspec": {
   "display_name": "Python 3",
   "language": "python",
   "name": "python3"
  },
  "language_info": {
   "codemirror_mode": {
    "name": "ipython",
    "version": 3
   },
   "file_extension": ".py",
   "mimetype": "text/x-python",
   "name": "python",
   "nbconvert_exporter": "python",
   "pygments_lexer": "ipython3",
   "version": "3.5.2"
  }
 },
 "nbformat": 4,
 "nbformat_minor": 2
}
