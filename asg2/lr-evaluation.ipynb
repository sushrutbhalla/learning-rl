{
 "cells": [
  {
   "cell_type": "markdown",
   "metadata": {},
   "source": [
    "I performed cross validation on the learning rate's hyper parameter tuning. I tried different learning rate decay schedules and compare them using the cumulative reward. The following image shows the result of using constant learning rate vs decaying learning rate and the results are compared to the baseline qLearning results. The "
   ]
  },
  {
   "cell_type": "markdown",
   "metadata": {},
   "source": [
    "![alt text](results/res18/maze_avg_cumulative_reward_part1.png \"Maze: Avg Cumulative reward\")"
   ]
  },
  {
   "cell_type": "code",
   "execution_count": null,
   "metadata": {},
   "outputs": [],
   "source": []
  }
 ],
 "metadata": {
  "kernelspec": {
   "display_name": "Python 3",
   "language": "python",
   "name": "python3"
  },
  "language_info": {
   "codemirror_mode": {
    "name": "ipython",
    "version": 3
   },
   "file_extension": ".py",
   "mimetype": "text/x-python",
   "name": "python",
   "nbconvert_exporter": "python",
   "pygments_lexer": "ipython3",
   "version": "3.5.2"
  }
 },
 "nbformat": 4,
 "nbformat_minor": 2
}
